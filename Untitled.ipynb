{
 "cells": [
  {
   "cell_type": "code",
   "execution_count": 1,
   "id": "3fb58b07",
   "metadata": {},
   "outputs": [
    {
     "name": "stdout",
     "output_type": "stream",
     "text": [
      "<class 'sklearn.ensemble._forest.RandomForestRegressor'>\n",
      "sklearn.ensemble._forest\n",
      "Trained with scikit-learn: 1.0.2\n"
     ]
    }
   ],
   "source": [
    "import joblib\n",
    "model = joblib.load(\"model.pkl\")\n",
    "print(model.__class__)\n",
    "print(model.__module__)\n",
    "import sklearn\n",
    "print(\"Trained with scikit-learn:\", sklearn.__version__)"
   ]
  },
  {
   "cell_type": "code",
   "execution_count": null,
   "id": "0a682a7b",
   "metadata": {},
   "outputs": [],
   "source": []
  }
 ],
 "metadata": {
  "kernelspec": {
   "display_name": "Python 3 (ipykernel)",
   "language": "python",
   "name": "python3"
  },
  "language_info": {
   "codemirror_mode": {
    "name": "ipython",
    "version": 3
   },
   "file_extension": ".py",
   "mimetype": "text/x-python",
   "name": "python",
   "nbconvert_exporter": "python",
   "pygments_lexer": "ipython3",
   "version": "3.9.12"
  }
 },
 "nbformat": 4,
 "nbformat_minor": 5
}
