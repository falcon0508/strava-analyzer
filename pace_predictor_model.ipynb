{
 "cells": [
  {
   "cell_type": "code",
   "execution_count": 1,
   "id": "56f31e9d",
   "metadata": {},
   "outputs": [],
   "source": [
    "import pandas as pd\n",
    "import joblib\n",
    "import os\n",
    "from sklearn.ensemble import RandomForestRegressor\n",
    "from sklearn.model_selection import train_test_split"
   ]
  },
  {
   "cell_type": "code",
   "execution_count": 2,
   "id": "aa37f0c3",
   "metadata": {},
   "outputs": [],
   "source": [
    "# --- Load data ---\n",
    "df = pd.read_csv(os.path.join(\"data\", \"activities.csv\"))\n",
    "df = df[df[\"type\"] == \"Run\"].copy()"
   ]
  },
  {
   "cell_type": "code",
   "execution_count": 3,
   "id": "e59c0a01",
   "metadata": {},
   "outputs": [],
   "source": [
    "# Parse dates\n",
    "df[\"date\"] = pd.to_datetime(df[\"start_date\"])\n",
    "df = df.sort_values(\"date\")\n",
    "\n",
    "# Features\n",
    "df[\"distance_km\"] = df[\"distance\"] / 1000\n",
    "df[\"elev_gain_m\"] = df[\"total_elevation_gain\"]\n",
    "df[\"pace_min_per_km\"] = (df[\"moving_time\"] / 60) / df[\"distance_km\"]\n",
    "\n",
    "# Time of day\n",
    "df[\"hour\"] = df[\"date\"].dt.hour\n",
    "\n",
    "# Timezone (locations)\n",
    "df[\"timezone_code\"] = pd.Categorical(df[\"timezone\"]).codes\n",
    "\n",
    "# Set datetime as index for rolling calculation\n",
    "df = df.set_index(\"date\")\n",
    "\n",
    "# Rolling mileage features\n",
    "df[\"rolling_7d_km\"] = df[\"distance_km\"].rolling(\"7D\").sum().fillna(0)\n",
    "df[\"rolling_30d_km\"] = df[\"distance_km\"].rolling(\"30D\").sum().fillna(0)\n",
    "\n",
    "# Reset index if you want 'date' as a column again\n",
    "df = df.reset_index()\n",
    "\n",
    "features = [\"distance_km\",\"elev_gain_m\",\"rolling_7d_km\",\"rolling_30d_km\", \"hour\", \"timezone_code\"]\n",
    "X = df[features]\n",
    "y = df[\"pace_min_per_km\"]"
   ]
  },
  {
   "cell_type": "code",
   "execution_count": 4,
   "id": "899033dd",
   "metadata": {},
   "outputs": [
    {
     "data": {
      "text/plain": [
       "RandomForestRegressor(n_estimators=200, random_state=42)"
      ]
     },
     "execution_count": 4,
     "metadata": {},
     "output_type": "execute_result"
    }
   ],
   "source": [
    "# Train/test split\n",
    "X_train, X_test, y_train, y_test = train_test_split(X, y, shuffle=False, test_size=0.2)\n",
    "\n",
    "# Train model\n",
    "model = RandomForestRegressor(n_estimators=200, random_state=42)\n",
    "model.fit(X_train, y_train)"
   ]
  },
  {
   "cell_type": "code",
   "execution_count": 5,
   "id": "c4f62ac3",
   "metadata": {},
   "outputs": [
    {
     "data": {
      "text/plain": [
       "['features.pkl']"
      ]
     },
     "execution_count": 5,
     "metadata": {},
     "output_type": "execute_result"
    }
   ],
   "source": [
    "import joblib\n",
    "\n",
    "# Save the model\n",
    "joblib.dump(model, \"model.pkl\")\n",
    "\n",
    "# (Optional) Save the training feature list for alignment later\n",
    "joblib.dump(features, \"features.pkl\")"
   ]
  },
  {
   "cell_type": "code",
   "execution_count": null,
   "id": "7190d5e5",
   "metadata": {},
   "outputs": [],
   "source": []
  }
 ],
 "metadata": {
  "kernelspec": {
   "display_name": "Python 3 (ipykernel)",
   "language": "python",
   "name": "python3"
  },
  "language_info": {
   "codemirror_mode": {
    "name": "ipython",
    "version": 3
   },
   "file_extension": ".py",
   "mimetype": "text/x-python",
   "name": "python",
   "nbconvert_exporter": "python",
   "pygments_lexer": "ipython3",
   "version": "3.9.12"
  }
 },
 "nbformat": 4,
 "nbformat_minor": 5
}
